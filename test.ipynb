{
 "cells": [
  {
   "cell_type": "code",
   "execution_count": 6,
   "metadata": {},
   "outputs": [
    {
     "name": "stderr",
     "output_type": "stream",
     "text": [
      "/home/thangbuiq/ws/absa/.venv/lib/python3.12/site-packages/sklearn/base.py:380: InconsistentVersionWarning: Trying to unpickle estimator LogisticRegression from version 1.3.2 when using version 1.6.1. This might lead to breaking code or invalid results. Use at your own risk. For more info please refer to:\n",
      "https://scikit-learn.org/stable/model_persistence.html#security-maintainability-limitations\n",
      "  warnings.warn(\n"
     ]
    }
   ],
   "source": [
    "from setfit import AbsaModel\n",
    "\n",
    "# Download from the 🤗 Hub\n",
    "model = AbsaModel.from_pretrained(\n",
    "    \"tomaarsen/setfit-absa-bge-small-en-v1.5-restaurants-aspect\",\n",
    "    \"tomaarsen/setfit-absa-bge-small-en-v1.5-restaurants-polarity\",\n",
    ")"
   ]
  },
  {
   "cell_type": "code",
   "execution_count": 14,
   "metadata": {},
   "outputs": [
    {
     "data": {
      "text/plain": [
       "[{'span': 'food', 'polarity': 'positive'},\n",
       " {'span': 'place', 'polarity': 'positive'},\n",
       " {'span': 'dining room', 'polarity': 'positive'},\n",
       " {'span': 'house', 'polarity': 'positive'},\n",
       " {'span': 'places', 'polarity': 'positive'},\n",
       " {'span': 'travel', 'polarity': 'positive'},\n",
       " {'span': 'Vietnam', 'polarity': 'positive'}]"
      ]
     },
     "execution_count": 14,
     "metadata": {},
     "output_type": "execute_result"
    }
   ],
   "source": [
    "model(\"Really delicious food that felt home cooked. The place is really atmospheric and thoughtfully designed feel like you're sitting in a dining room of a house. One of the most memorable places I went to in my travel through Vietnam\")"
   ]
  }
 ],
 "metadata": {
  "kernelspec": {
   "display_name": ".venv",
   "language": "python",
   "name": "python3"
  },
  "language_info": {
   "codemirror_mode": {
    "name": "ipython",
    "version": 3
   },
   "file_extension": ".py",
   "mimetype": "text/x-python",
   "name": "python",
   "nbconvert_exporter": "python",
   "pygments_lexer": "ipython3",
   "version": "3.12.7"
  }
 },
 "nbformat": 4,
 "nbformat_minor": 2
}
